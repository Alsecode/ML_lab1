{
 "cells": [
  {
   "cell_type": "code",
   "execution_count": 1,
   "id": "e9f26e20",
   "metadata": {},
   "outputs": [],
   "source": [
    "#Задание 1\n",
    "#Вычислить градиент одной из функций\n",
    "#Функция №6"
   ]
  },
  {
   "cell_type": "code",
   "execution_count": 2,
   "id": "6c856e9f",
   "metadata": {},
   "outputs": [],
   "source": [
    "import torch\n",
    "import math\n",
    "import numpy as np"
   ]
  },
  {
   "cell_type": "code",
   "execution_count": 3,
   "id": "2f5b270b",
   "metadata": {},
   "outputs": [
    {
     "data": {
      "text/plain": [
       "tensor([-0.0543,  0.1384, -0.0841])"
      ]
     },
     "execution_count": 3,
     "metadata": {},
     "output_type": "execute_result"
    }
   ],
   "source": [
    "def grad_f(u, x):\n",
    "    \n",
    "    u.requires_grad_(True)\n",
    "    \n",
    "    alpha1 = torch.exp(u) / torch.sum(torch.exp(u))\n",
    "    f = torch.sum(torch.dot(alpha1, x))\n",
    "    \n",
    "    f.backward()\n",
    "    \n",
    "    return u.grad\n",
    "\n",
    "grad_f(torch.tensor([0.5,2.3,1.7]), torch.tensor([0.7,1.5,1.]))"
   ]
  }
 ],
 "metadata": {
  "kernelspec": {
   "display_name": "Python 3 (ipykernel)",
   "language": "python",
   "name": "python3"
  },
  "language_info": {
   "codemirror_mode": {
    "name": "ipython",
    "version": 3
   },
   "file_extension": ".py",
   "mimetype": "text/x-python",
   "name": "python",
   "nbconvert_exporter": "python",
   "pygments_lexer": "ipython3",
   "version": "3.9.7"
  }
 },
 "nbformat": 4,
 "nbformat_minor": 5
}
