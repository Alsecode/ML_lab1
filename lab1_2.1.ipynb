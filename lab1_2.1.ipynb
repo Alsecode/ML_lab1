{
 "cells": [
  {
   "cell_type": "code",
   "execution_count": 1,
   "id": "78e8162b",
   "metadata": {},
   "outputs": [],
   "source": [
    "#Задание 1. Вычислить функцию"
   ]
  },
  {
   "cell_type": "code",
   "execution_count": 2,
   "id": "49581e16",
   "metadata": {},
   "outputs": [],
   "source": [
    "import numpy as np"
   ]
  },
  {
   "cell_type": "code",
   "execution_count": 3,
   "id": "f163ac42",
   "metadata": {},
   "outputs": [],
   "source": [
    "#Данные, передаваемые в функцию\n",
    "x = np.array([1, 2.5, 3.3])  \n",
    "w = np.array([2.1, 7.8, 5.6])\n",
    "b = 5"
   ]
  },
  {
   "cell_type": "code",
   "execution_count": 4,
   "id": "e792a57d",
   "metadata": {},
   "outputs": [],
   "source": [
    "def f(x, w, b):\n",
    "    return np.dot(x, w) + b"
   ]
  },
  {
   "cell_type": "code",
   "execution_count": 5,
   "id": "2adcfd38",
   "metadata": {},
   "outputs": [
    {
     "data": {
      "text/plain": [
       "45.08"
      ]
     },
     "execution_count": 5,
     "metadata": {},
     "output_type": "execute_result"
    }
   ],
   "source": [
    "f(x, w, b)"
   ]
  }
 ],
 "metadata": {
  "kernelspec": {
   "display_name": "Python 3 (ipykernel)",
   "language": "python",
   "name": "python3"
  },
  "language_info": {
   "codemirror_mode": {
    "name": "ipython",
    "version": 3
   },
   "file_extension": ".py",
   "mimetype": "text/x-python",
   "name": "python",
   "nbconvert_exporter": "python",
   "pygments_lexer": "ipython3",
   "version": "3.10.0"
  }
 },
 "nbformat": 4,
 "nbformat_minor": 5
}
