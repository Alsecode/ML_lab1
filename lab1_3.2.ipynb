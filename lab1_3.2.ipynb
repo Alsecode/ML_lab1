{
 "cells": [
  {
   "cell_type": "code",
   "execution_count": 1,
   "id": "9d007c2c",
   "metadata": {},
   "outputs": [],
   "source": [
    "#Задание 2. Дан граф друзей из соцсети VK (vk.gml):\n",
    "#Необходимо:\n",
    "#1) Определить число уникальных пользователей\n",
    "#2) Для каждого id пользователя определить число его друзей из данного графа. Вывести топ 15. Учитывать неориентированность графа. \n",
    "#Посчитать среднее и медианное число друзей.\n",
    "#3) Для всех возможных пар пользователей (декартова произведения):\n",
    "#Для длин L 1..6 определить пропорцию пар пользователей, для которой кратчайший путь между пользователями в паре составляет L. \n",
    "#Определить пропорцию, для которой этот путь больше 6 (или не существует).\n",
    "#Убедиться, что полученные пропорции суммируются в 1."
   ]
  },
  {
   "cell_type": "code",
   "execution_count": 2,
   "id": "2d9215b2",
   "metadata": {},
   "outputs": [],
   "source": [
    "from collections import defaultdict\n",
    "import networkx as nx\n",
    "import numpy as np"
   ]
  },
  {
   "cell_type": "code",
   "execution_count": 3,
   "id": "a864fc1a",
   "metadata": {},
   "outputs": [],
   "source": [
    "def vk_stats():\n",
    "    graph =  nx.read_gml(\"GML_files/VK.gml\")  #Чтение gml-файла \n",
    "    \n",
    "    nodes = graph.nodes\n",
    "    edges = graph.edges\n",
    "    \n",
    "    number_of_friends = np.array([])  #Массив для хранения числа друзей каждого пользователя\n",
    "    for node in nodes:\n",
    "        number_of_friends = np.append(number_of_friends, len(graph.edges(node)))\n",
    "        \n",
    "    ids = np.argsort(number_of_friends)[::-1]  #Массив для хранения id пользователей (отсортирован по количеству друзей - от наибольшего количества к наименьшему)\n",
    "    \n",
    "    print (\"Число уникальных пользоватлей: \", len(nodes))\n",
    "    print('Cpeднее число друзей: ', np.average(number_of_friends))\n",
    "    print('Медианное число друзей: ', np.median(number_of_friends))\n",
    "    print('Топ-15: ')\n",
    "    for i in range (15):  #Топ-15 \n",
    "        print('id ' + str(list(nodes)[ids[i]]))"
   ]
  },
  {
   "cell_type": "code",
   "execution_count": 4,
   "id": "345ef350",
   "metadata": {},
   "outputs": [
    {
     "name": "stdout",
     "output_type": "stream",
     "text": [
      "Число уникальных пользоватлей:  3766\n",
      "Cpeднее число друзей:  21.98884758364312\n",
      "Медианное число друзей:  15.0\n",
      "Топ-15: \n",
      "id 154572605\n",
      "id 136435809\n",
      "id 34847138\n",
      "id 1997236\n",
      "id 472893795\n",
      "id 270418723\n",
      "id 246825563\n",
      "id 120109289\n",
      "id 83372852\n",
      "id 94780691\n",
      "id 63962118\n",
      "id 150491520\n",
      "id 94509311\n",
      "id 122784747\n",
      "id 41459412\n"
     ]
    }
   ],
   "source": [
    "vk_stats()"
   ]
  }
 ],
 "metadata": {
  "kernelspec": {
   "display_name": "Python 3 (ipykernel)",
   "language": "python",
   "name": "python3"
  },
  "language_info": {
   "codemirror_mode": {
    "name": "ipython",
    "version": 3
   },
   "file_extension": ".py",
   "mimetype": "text/x-python",
   "name": "python",
   "nbconvert_exporter": "python",
   "pygments_lexer": "ipython3",
   "version": "3.10.0"
  }
 },
 "nbformat": 4,
 "nbformat_minor": 5
}
