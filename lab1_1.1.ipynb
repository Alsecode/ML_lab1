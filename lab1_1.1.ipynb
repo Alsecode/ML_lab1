{
 "cells": [
  {
   "cell_type": "code",
   "execution_count": 1,
   "id": "d8857781",
   "metadata": {},
   "outputs": [],
   "source": [
    "import pathlib\n",
    "from pathlib import Path  \n",
    "import os\n",
    "import csv\n",
    "import json.decoder"
   ]
  },
  {
   "cell_type": "code",
   "execution_count": 2,
   "id": "7765a031",
   "metadata": {},
   "outputs": [],
   "source": [
    "def fileConvert():\n",
    "    pathJSON = Path(\"JSON_files\", \"sales.json\")  #путь для JSON-файла\n",
    "    pathCSV = Path(\"CSV_files\", \"sales.csv\")  #путь для CSV-файла\n",
    "    \n",
    "    if os.path.isfile(pathCSV): \n",
    "        os.remove(pathCSV)\n",
    "    \n",
    "    with open(pathJSON) as jsonfile:  #открытие JSON-файла \n",
    "        elements = json.load(jsonfile)\n",
    "        \n",
    "    header = ['item', 'country', 'year', 'sales']  #имена полей (заголовок)\n",
    "        \n",
    "    with open(pathCSV, 'a', newline = '') as csvfile:  #открытие CSV-файла для добавления строк ('a')\n",
    "        \n",
    "        writer = csv.DictWriter(csvfile, fieldnames = header)\n",
    "        writer.writeheader()  \n",
    "        \n",
    "        for item in elements:\n",
    "            countries = item[\"sales_by_country\"]\n",
    "            \n",
    "            for country in countries:\n",
    "                years = countries[country]\n",
    "                \n",
    "                for year in years:\n",
    "                    writer.writerow({'item': f'{item[\"item\"]}',\n",
    "                                     'country': f'{country}',\n",
    "                                     'year': f'{year}',\n",
    "                                     'sales': f'{years[year]}'})"
   ]
  },
  {
   "cell_type": "code",
   "execution_count": 3,
   "id": "dd7b97fc",
   "metadata": {},
   "outputs": [],
   "source": [
    "fileConvert()"
   ]
  }
 ],
 "metadata": {
  "kernelspec": {
   "display_name": "Python 3 (ipykernel)",
   "language": "python",
   "name": "python3"
  },
  "language_info": {
   "codemirror_mode": {
    "name": "ipython",
    "version": 3
   },
   "file_extension": ".py",
   "mimetype": "text/x-python",
   "name": "python",
   "nbconvert_exporter": "python",
   "pygments_lexer": "ipython3",
   "version": "3.10.0"
  }
 },
 "nbformat": 4,
 "nbformat_minor": 5
}
