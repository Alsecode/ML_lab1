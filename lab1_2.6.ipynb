{
 "cells": [
  {
   "cell_type": "code",
   "execution_count": 1,
   "id": "70a6f04a",
   "metadata": {},
   "outputs": [],
   "source": [
    "import numpy as np\n",
    "import matplotlib.pyplot as plt"
   ]
  },
  {
   "cell_type": "code",
   "execution_count": 2,
   "id": "e3cf4dc3",
   "metadata": {},
   "outputs": [],
   "source": [
    "def correctAngle(V , q):\n",
    "    below90 = 0 #количество векторов, для которых угол(v,q) < 90 градусов\n",
    "    below30 = 0 #количество векторов, для которых угол(v,q) < 30 градусов\n",
    "    #vModule = 0 #модуль(длина) вектора v\n",
    "    qModule = np.linalg.norm(q) #модуль(длина) вектора q\n",
    "    for v in V:\n",
    "        vModule = np.linalg.norm(v) #модуль(длина) вектора v\n",
    "        angle = np.arccos( np.dot(q,v) / (qModule * vModule) )\n",
    "        if(np.degrees(angle) < 90):\n",
    "            below90 += 1\n",
    "        if(np.degrees(angle) < 30):\n",
    "            below30 += 1\n",
    "    proportionBelow90 = below90 / len(V) \n",
    "    proportionBelow30 = below30 / len(V) \n",
    "    return ([[proportionBelow90], [proportionBelow30]])"
   ]
  },
  {
   "cell_type": "code",
   "execution_count": 3,
   "id": "73d6e522",
   "metadata": {},
   "outputs": [
    {
     "data": {
      "text/plain": [
       "[[0.75], [0.5]]"
      ]
     },
     "execution_count": 3,
     "metadata": {},
     "output_type": "execute_result"
    }
   ],
   "source": [
    "correctAngle([[1,2], [2,5], [800, 10], [-6, 1]], [5,5])"
   ]
  },
  {
   "cell_type": "code",
   "execution_count": null,
   "id": "5c291485",
   "metadata": {},
   "outputs": [],
   "source": []
  }
 ],
 "metadata": {
  "kernelspec": {
   "display_name": "Python 3 (ipykernel)",
   "language": "python",
   "name": "python3"
  },
  "language_info": {
   "codemirror_mode": {
    "name": "ipython",
    "version": 3
   },
   "file_extension": ".py",
   "mimetype": "text/x-python",
   "name": "python",
   "nbconvert_exporter": "python",
   "pygments_lexer": "ipython3",
   "version": "3.10.0"
  }
 },
 "nbformat": 4,
 "nbformat_minor": 5
}
