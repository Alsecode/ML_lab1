{
 "cells": [
  {
   "cell_type": "code",
   "execution_count": 1,
   "id": "aca0adb7",
   "metadata": {},
   "outputs": [],
   "source": [
    "#Задание 6. Дано множество векторов V размерности d. Дан вектор q такой же размерности. Определить:\n",
    "#а) Пропорцию векторов v в V, для которых угол(v,q) < 90 градусов\n",
    "#б) Пропорцию векторов v в V, для которых угол(v,q) < 30 градусов"
   ]
  },
  {
   "cell_type": "code",
   "execution_count": 2,
   "id": "70a6f04a",
   "metadata": {},
   "outputs": [],
   "source": [
    "import numpy as np\n",
    "import matplotlib.pyplot as plt"
   ]
  },
  {
   "cell_type": "code",
   "execution_count": 3,
   "id": "e3cf4dc3",
   "metadata": {},
   "outputs": [],
   "source": [
    "def suitableAngle(V , q):\n",
    "    \n",
    "    counter_below90 = 0 #количество векторов, для которых угол(v,q) < 90 градусов\n",
    "    counter_below30 = 0 #количество векторов, для которых угол(v,q) < 30 градусов\n",
    "    \n",
    "    vModules = np.linalg.norm(V, axis = 1) #модули(длины) векторов v из V \n",
    "    qModule = np.linalg.norm(q) #модуль(длина) вектора q\n",
    "    \n",
    "    angles = np.arccos(np.dot(V,q)  / (vModules * qModule))  \n",
    "    \n",
    "    counter_below90 = (np.degrees(angles) < 90).sum()\n",
    "    counter_below30 = (np.degrees(angles) < 30).sum()\n",
    "    \n",
    "    proportionBelow90 = counter_below90 / len(V) \n",
    "    proportionBelow30 = counter_below30 / len(V) \n",
    "    \n",
    "    return ([[proportionBelow90], [proportionBelow30]])"
   ]
  },
  {
   "cell_type": "code",
   "execution_count": 4,
   "id": "73d6e522",
   "metadata": {},
   "outputs": [
    {
     "data": {
      "text/plain": [
       "[[0.75], [0.5]]"
      ]
     },
     "execution_count": 4,
     "metadata": {},
     "output_type": "execute_result"
    }
   ],
   "source": [
    "V = [[1,2], [2,5], [800, 10], [-6, 1]]\n",
    "q = [5,5]\n",
    "suitableAngle(V, q)"
   ]
  }
 ],
 "metadata": {
  "kernelspec": {
   "display_name": "Python 3 (ipykernel)",
   "language": "python",
   "name": "python3"
  },
  "language_info": {
   "codemirror_mode": {
    "name": "ipython",
    "version": 3
   },
   "file_extension": ".py",
   "mimetype": "text/x-python",
   "name": "python",
   "nbconvert_exporter": "python",
   "pygments_lexer": "ipython3",
   "version": "3.10.0"
  }
 },
 "nbformat": 4,
 "nbformat_minor": 5
}
